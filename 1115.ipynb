{
  "nbformat": 4,
  "nbformat_minor": 0,
  "metadata": {
    "colab": {
      "provenance": [],
      "authorship_tag": "ABX9TyOuiXyoR7SMK/to+LauKlTu",
      "include_colab_link": true
    },
    "kernelspec": {
      "name": "python3",
      "display_name": "Python 3"
    },
    "language_info": {
      "name": "python"
    }
  },
  "cells": [
    {
      "cell_type": "markdown",
      "metadata": {
        "id": "view-in-github",
        "colab_type": "text"
      },
      "source": [
        "<a href=\"https://colab.research.google.com/github/yutzuccc/TKU-AI-411570301/blob/main/1115.ipynb\" target=\"_parent\"><img src=\"https://colab.research.google.com/assets/colab-badge.svg\" alt=\"Open In Colab\"/></a>"
      ]
    },
    {
      "cell_type": "code",
      "execution_count": 1,
      "metadata": {
        "colab": {
          "base_uri": "https://localhost:8080/"
        },
        "id": "tMxwPT_fw7tK",
        "outputId": "e5cf637a-1e9b-491c-93c7-ef3ff91430a5"
      },
      "outputs": [
        {
          "output_type": "stream",
          "name": "stdout",
          "text": [
            "Hi,python\n"
          ]
        }
      ],
      "source": [
        "print(\"Hi,python\")"
      ]
    },
    {
      "cell_type": "markdown",
      "source": [
        "今天是11月15號"
      ],
      "metadata": {
        "id": "vTcHR-CBzCCm"
      }
    },
    {
      "cell_type": "code",
      "source": [
        "print(\"今天是11月15號\")"
      ],
      "metadata": {
        "colab": {
          "base_uri": "https://localhost:8080/"
        },
        "id": "v5KhzMztzHka",
        "outputId": "5f32e407-d488-4903-a726-e105a09ffe94"
      },
      "execution_count": 4,
      "outputs": [
        {
          "output_type": "stream",
          "name": "stdout",
          "text": [
            "今天是11月15號\n"
          ]
        }
      ]
    },
    {
      "cell_type": "code",
      "source": [
        "print(\"江于慈,411570301\")"
      ],
      "metadata": {
        "colab": {
          "base_uri": "https://localhost:8080/"
        },
        "id": "4T_4BfhNxsaH",
        "outputId": "80e9daee-c0a1-4f49-e80d-f6998433ec55"
      },
      "execution_count": 5,
      "outputs": [
        {
          "output_type": "stream",
          "name": "stdout",
          "text": [
            "江于慈,411570301\n"
          ]
        }
      ]
    },
    {
      "cell_type": "markdown",
      "source": [
        "\n"
      ],
      "metadata": {
        "id": "Gb6Z3d9zyQXd"
      }
    }
  ]
}